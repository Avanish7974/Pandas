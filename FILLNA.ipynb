{
 "cells": [
  {
   "cell_type": "code",
   "execution_count": 16,
   "id": "fdcc977f",
   "metadata": {},
   "outputs": [
    {
     "name": "stdout",
     "output_type": "stream",
     "text": [
      "     A    B     c\n",
      "0  1.0    a  10.0\n",
      "1  2.0  NaN   NaN\n",
      "2  NaN    c   NaN\n"
     ]
    }
   ],
   "source": [
    "import pandas as pd\n",
    "import numpy as np\n",
    "df1 = pd.DataFrame({'A':[1,2,np.nan],\n",
    "                   'B':['a',np.nan,'c'],\n",
    "                   'c':[10,np.nan,np.nan]})\n",
    "print(df1)"
   ]
  },
  {
   "cell_type": "code",
   "execution_count": 6,
   "id": "3baa05b2",
   "metadata": {},
   "outputs": [
    {
     "name": "stdout",
     "output_type": "stream",
     "text": [
      "     A  B     c\n",
      "0  1.0  a  10.0\n",
      "1  2.0  9   9.0\n",
      "2  9.0  c   9.0\n"
     ]
    }
   ],
   "source": [
    "print(df1.fillna(9))"
   ]
  },
  {
   "cell_type": "code",
   "execution_count": 8,
   "id": "36e72287",
   "metadata": {},
   "outputs": [
    {
     "data": {
      "text/plain": [
       "0    1.0\n",
       "1    2.0\n",
       "2    1.5\n",
       "Name: A, dtype: float64"
      ]
     },
     "execution_count": 8,
     "metadata": {},
     "output_type": "execute_result"
    }
   ],
   "source": [
    "df1['A'].fillna(df1['A'].mean())"
   ]
  },
  {
   "cell_type": "code",
   "execution_count": 9,
   "id": "692f191d",
   "metadata": {},
   "outputs": [
    {
     "data": {
      "text/plain": [
       "0    1.0\n",
       "1    2.0\n",
       "2    3.0\n",
       "Name: A, dtype: float64"
      ]
     },
     "execution_count": 9,
     "metadata": {},
     "output_type": "execute_result"
    }
   ],
   "source": [
    "\n",
    "df1['A'].fillna(df1['A'].sum())"
   ]
  },
  {
   "cell_type": "code",
   "execution_count": 34,
   "id": "caa26bc8",
   "metadata": {},
   "outputs": [
    {
     "data": {
      "text/html": [
       "<div>\n",
       "<style scoped>\n",
       "    .dataframe tbody tr th:only-of-type {\n",
       "        vertical-align: middle;\n",
       "    }\n",
       "\n",
       "    .dataframe tbody tr th {\n",
       "        vertical-align: top;\n",
       "    }\n",
       "\n",
       "    .dataframe thead th {\n",
       "        text-align: right;\n",
       "    }\n",
       "</style>\n",
       "<table border=\"1\" class=\"dataframe\">\n",
       "  <thead>\n",
       "    <tr style=\"text-align: right;\">\n",
       "      <th></th>\n",
       "      <th>A</th>\n",
       "      <th>B</th>\n",
       "      <th>c</th>\n",
       "      <th>D</th>\n",
       "    </tr>\n",
       "  </thead>\n",
       "  <tbody>\n",
       "    <tr>\n",
       "      <th>0</th>\n",
       "      <td>1.0</td>\n",
       "      <td>a</td>\n",
       "      <td>10.0</td>\n",
       "      <td>11.0</td>\n",
       "    </tr>\n",
       "  </tbody>\n",
       "</table>\n",
       "</div>"
      ],
      "text/plain": [
       "     A  B     c     D\n",
       "0  1.0  a  10.0  11.0"
      ]
     },
     "execution_count": 34,
     "metadata": {},
     "output_type": "execute_result"
    }
   ],
   "source": [
    "df1.dropna()\n",
    "# this dropna operation removes all rows with null values in any column. If you want to remove rows with null values only in \n",
    "# specific columns, you can use the subset parameter.\n",
    "df1.dropna(subset=['A', 'B'])\n",
    "# this will remove rows with null values in columns A and B, but keep rows with null values in column C.\n"
   ]
  },
  {
   "cell_type": "code",
   "execution_count": null,
   "id": "9d13dc40",
   "metadata": {},
   "outputs": [
    {
     "name": "stdout",
     "output_type": "stream",
     "text": [
      "None\n"
     ]
    }
   ],
   "source": [
    "print(df1.dropna(inplace=True))\n",
    "# when we use inplace=True, it changes the original dataframe. If you want to keep the original dataframe, you can use df1.copy()"
   ]
  },
  {
   "cell_type": "code",
   "execution_count": 23,
   "id": "f47568bf",
   "metadata": {},
   "outputs": [
    {
     "data": {
      "text/html": [
       "<div>\n",
       "<style scoped>\n",
       "    .dataframe tbody tr th:only-of-type {\n",
       "        vertical-align: middle;\n",
       "    }\n",
       "\n",
       "    .dataframe tbody tr th {\n",
       "        vertical-align: top;\n",
       "    }\n",
       "\n",
       "    .dataframe thead th {\n",
       "        text-align: right;\n",
       "    }\n",
       "</style>\n",
       "<table border=\"1\" class=\"dataframe\">\n",
       "  <thead>\n",
       "    <tr style=\"text-align: right;\">\n",
       "      <th></th>\n",
       "      <th>A</th>\n",
       "      <th>B</th>\n",
       "      <th>c</th>\n",
       "      <th>D</th>\n",
       "    </tr>\n",
       "  </thead>\n",
       "  <tbody>\n",
       "    <tr>\n",
       "      <th>0</th>\n",
       "      <td>1.0</td>\n",
       "      <td>a</td>\n",
       "      <td>10.0</td>\n",
       "      <td>11.0</td>\n",
       "    </tr>\n",
       "    <tr>\n",
       "      <th>1</th>\n",
       "      <td>2.0</td>\n",
       "      <td>NaN</td>\n",
       "      <td>NaN</td>\n",
       "      <td>NaN</td>\n",
       "    </tr>\n",
       "    <tr>\n",
       "      <th>2</th>\n",
       "      <td>NaN</td>\n",
       "      <td>c</td>\n",
       "      <td>NaN</td>\n",
       "      <td>NaN</td>\n",
       "    </tr>\n",
       "  </tbody>\n",
       "</table>\n",
       "</div>"
      ],
      "text/plain": [
       "     A    B     c     D\n",
       "0  1.0    a  10.0  11.0\n",
       "1  2.0  NaN   NaN   NaN\n",
       "2  NaN    c   NaN   NaN"
      ]
     },
     "execution_count": 23,
     "metadata": {},
     "output_type": "execute_result"
    }
   ],
   "source": [
    "df1"
   ]
  },
  {
   "cell_type": "code",
   "execution_count": null,
   "id": "955fff6f",
   "metadata": {},
   "outputs": [],
   "source": [
    "df1['D']=df1['A']+df1['c']\n",
    "# it will give NaN values in the D column where A or c is NaN.\n",
    "# in the d column the values will be NaN if either A or c is NaN."
   ]
  },
  {
   "cell_type": "code",
   "execution_count": null,
   "id": "fb6c1e2b",
   "metadata": {},
   "outputs": [
    {
     "name": "stdout",
     "output_type": "stream",
     "text": [
      "Before\n",
      "        one       two     three\n",
      "A -0.401578  0.161771 -0.652136\n",
      "B  1.512327  0.277988 -0.213475\n",
      "C  0.212509  2.460123  0.838624\n",
      "D  0.116139  0.294618 -0.468073\n",
      "E -0.246809 -0.796633 -0.608884\n",
      "After\n",
      "        one       two     three\n",
      "A -0.401578  0.161771 -0.652136\n",
      "B  1.512327  0.277988 -0.213475\n",
      "C  0.212509  2.460123  0.838624\n",
      "D  0.116139  0.294618 -0.468073\n",
      "E -0.246809 -0.796633 -0.608884\n",
      "F       NaN       NaN       NaN\n",
      "G       NaN       NaN       NaN\n",
      "Empty DataFrame\n",
      "Columns: []\n",
      "Index: [A, B, C, D, E, F, G]\n",
      "        one       two     three\n",
      "A -0.401578  0.161771 -0.652136\n",
      "B  1.512327  0.277988 -0.213475\n",
      "C  0.212509  2.460123  0.838624\n",
      "D  0.116139  0.294618 -0.468073\n",
      "E -0.246809 -0.796633 -0.608884\n"
     ]
    }
   ],
   "source": [
    "import pandas as pd\n",
    "import numpy as np\n",
    "df = pd.DataFrame(np.random.randn(5, 3), index=['A', 'B', 'C', 'D', 'E'],columns=['one', 'two', 'three'])\n",
    "print(\"Before\")\n",
    "print(df)\n",
    "df = df.reindex(['A', 'B', 'C', 'D', 'E', 'F','G'])\n",
    "print(\"After\")\n",
    "print(df)\n",
    "print(df.dropna(axis=1))\n",
    "# this will drop all columns with NaN values. If you want to drop rows with NaN values, you can use axis=0.\n",
    "print(df.dropna(axis=0))\n",
    "# this will drop all rows with NaN values. If you want to drop columns with NaN values, you can use axis=1."
   ]
  },
  {
   "cell_type": "code",
   "execution_count": 47,
   "id": "74bbec84",
   "metadata": {},
   "outputs": [
    {
     "name": "stdout",
     "output_type": "stream",
     "text": [
      "Before\n",
      "     A    B     C    D   E\n",
      "0  1.0    a  10.0  1.0 NaN\n",
      "1  2.0  NaN   NaN  2.0 NaN\n",
      "2  NaN    c   NaN  NaN NaN\n",
      "After\n"
     ]
    },
    {
     "data": {
      "text/html": [
       "<div>\n",
       "<style scoped>\n",
       "    .dataframe tbody tr th:only-of-type {\n",
       "        vertical-align: middle;\n",
       "    }\n",
       "\n",
       "    .dataframe tbody tr th {\n",
       "        vertical-align: top;\n",
       "    }\n",
       "\n",
       "    .dataframe thead th {\n",
       "        text-align: right;\n",
       "    }\n",
       "</style>\n",
       "<table border=\"1\" class=\"dataframe\">\n",
       "  <thead>\n",
       "    <tr style=\"text-align: right;\">\n",
       "      <th></th>\n",
       "      <th>A</th>\n",
       "      <th>B</th>\n",
       "      <th>C</th>\n",
       "      <th>D</th>\n",
       "      <th>E</th>\n",
       "    </tr>\n",
       "  </thead>\n",
       "  <tbody>\n",
       "    <tr>\n",
       "      <th>0</th>\n",
       "      <td>1.0</td>\n",
       "      <td>a</td>\n",
       "      <td>10.0</td>\n",
       "      <td>1.0</td>\n",
       "      <td>NaN</td>\n",
       "    </tr>\n",
       "    <tr>\n",
       "      <th>1</th>\n",
       "      <td>2.0</td>\n",
       "      <td>NaN</td>\n",
       "      <td>NaN</td>\n",
       "      <td>2.0</td>\n",
       "      <td>NaN</td>\n",
       "    </tr>\n",
       "  </tbody>\n",
       "</table>\n",
       "</div>"
      ],
      "text/plain": [
       "     A    B     C    D   E\n",
       "0  1.0    a  10.0  1.0 NaN\n",
       "1  2.0  NaN   NaN  2.0 NaN"
      ]
     },
     "execution_count": 47,
     "metadata": {},
     "output_type": "execute_result"
    }
   ],
   "source": [
    "import numpy as np\n",
    "import pandas as pd\n",
    "\n",
    "# Create a DataFrame\n",
    "df = pd.DataFrame({\n",
    "    'A': [1, 2, np.nan],\n",
    "    'B': ['a', np.nan, 'c'],\n",
    "    'C': [10, np.nan, np.nan],\n",
    "    'D': [1,2,np.nan],\n",
    "    'E': [np.nan, np.nan, np.nan]\n",
    "})\n",
    "print(\"Before\")\n",
    "print(df)\n",
    "# Fill NaN values with a specific value\n",
    "print(\"After\")\n",
    "df.dropna(thresh=2)\n",
    "# this will drop rows that have less than 2 non-null values. In this case, it will drop the second and third rows.\n",
    "# here thresh = 2 means that at least 2 non-null values are required to keep the row."
   ]
  }
 ],
 "metadata": {
  "kernelspec": {
   "display_name": "Python 3",
   "language": "python",
   "name": "python3"
  },
  "language_info": {
   "codemirror_mode": {
    "name": "ipython",
    "version": 3
   },
   "file_extension": ".py",
   "mimetype": "text/x-python",
   "name": "python",
   "nbconvert_exporter": "python",
   "pygments_lexer": "ipython3",
   "version": "3.12.10"
  }
 },
 "nbformat": 4,
 "nbformat_minor": 5
}
