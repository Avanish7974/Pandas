{
 "cells": [
  {
   "cell_type": "code",
   "execution_count": 10,
   "id": "9de031e6",
   "metadata": {},
   "outputs": [
    {
     "name": "stdout",
     "output_type": "stream",
     "text": [
      "   AB  BC  CD\n",
      "0   1   2   3\n",
      "1   4   5   6\n",
      "2   7   8   9\n"
     ]
    }
   ],
   "source": [
    "import pandas as pd\n",
    "data = [[1,2,3],[4,5,6],[7,8,9]]\n",
    "df = pd.DataFrame(data, columns=['AB', 'BC', 'CD'])\n",
    "print(df)"
   ]
  },
  {
   "cell_type": "code",
   "execution_count": 7,
   "id": "8d0bf69c",
   "metadata": {},
   "outputs": [
    {
     "name": "stdout",
     "output_type": "stream",
     "text": [
      "   num\n",
      "0   22\n",
      "1   33\n",
      "2   44\n",
      "3   55\n",
      "4   66\n"
     ]
    }
   ],
   "source": [
    "import pandas as pd\n",
    "data = [22,33,44,55,66]\n",
    "df = pd.DataFrame(data, columns=['num'])\n",
    "print(df)"
   ]
  },
  {
   "cell_type": "code",
   "execution_count": 14,
   "id": "1c069888",
   "metadata": {},
   "outputs": [
    {
     "name": "stdout",
     "output_type": "stream",
     "text": [
      "   num\n",
      "a    1\n",
      "b    2\n",
      "c    3\n",
      "d    4\n",
      "e    5\n"
     ]
    }
   ],
   "source": [
    "import pandas as pd\n",
    "data = [1,2,3,4,5]\n",
    "df = pd.DataFrame(data, columns=['num'], index=['a','b','c','d','e'])\n",
    "print(df)"
   ]
  }
 ],
 "metadata": {
  "kernelspec": {
   "display_name": "Python 3",
   "language": "python",
   "name": "python3"
  },
  "language_info": {
   "codemirror_mode": {
    "name": "ipython",
    "version": 3
   },
   "file_extension": ".py",
   "mimetype": "text/x-python",
   "name": "python",
   "nbconvert_exporter": "python",
   "pygments_lexer": "ipython3",
   "version": "3.12.10"
  }
 },
 "nbformat": 4,
 "nbformat_minor": 5
}
