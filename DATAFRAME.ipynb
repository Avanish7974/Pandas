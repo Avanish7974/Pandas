{
 "cells": [
  {
   "cell_type": "code",
   "execution_count": 26,
   "id": "9de031e6",
   "metadata": {},
   "outputs": [
    {
     "name": "stdout",
     "output_type": "stream",
     "text": [
      "   AB  BC  CD\n",
      "0   1   2   3\n",
      "1   4   5   6\n",
      "2   7   8   9\n"
     ]
    }
   ],
   "source": [
    "import pandas as pd\n",
    "data = [[1,2,3],[4,5,6],[7,8,9]]\n",
    "df = pd.DataFrame(data, columns=['AB', 'BC', 'CD'])\n",
    "print(df)"
   ]
  },
  {
   "cell_type": "code",
   "execution_count": 20,
   "id": "8933f303",
   "metadata": {},
   "outputs": [
    {
     "name": "stdout",
     "output_type": "stream",
     "text": [
      "   Name  Age         City\n",
      "0  john   25     New York\n",
      "1  jane   30  Los Angeles\n",
      "2   doe   28      Chicago\n"
     ]
    }
   ],
   "source": [
    "import pandas as pd\n",
    "# Creating a DataFrame with a dictionary\n",
    "name = {'Name':['john','jane','doe'], 'Age':[25,30,28], 'City':['New York','Los Angeles','Chicago']}\n",
    "df = pd.DataFrame(name)\n",
    "print(df)"
   ]
  },
  {
   "cell_type": "code",
   "execution_count": 23,
   "id": "ebb48fb4",
   "metadata": {},
   "outputs": [
    {
     "name": "stdout",
     "output_type": "stream",
     "text": [
      "   Name  Age    village         City\n",
      "a  john   25       rewa     New York\n",
      "b  jane   30      satna  Los Angeles\n",
      "c   doe   28  bhopalpur      Chicago\n"
     ]
    }
   ],
   "source": [
    "import pandas as pd\n",
    "# Creating a DataFrame with a dictionary\n",
    "name = {'Name':['john','jane','doe'], 'Age':[25,30,28],'village':['rewa','satna','bhopalpur'], 'City':['New York','Los Angeles','Chicago']}\n",
    "df = pd.DataFrame(name, index=['a','b','c'])\n",
    "print(df)"
   ]
  },
  {
   "cell_type": "code",
   "execution_count": 15,
   "id": "8d0bf69c",
   "metadata": {},
   "outputs": [
    {
     "name": "stdout",
     "output_type": "stream",
     "text": [
      "   num\n",
      "0   22\n",
      "1   33\n",
      "2   44\n",
      "3   55\n",
      "4   66\n"
     ]
    }
   ],
   "source": [
    "import pandas as pd\n",
    "data = [22,33,44,55,66]\n",
    "gf = pd.DataFrame(data, columns=['num'])\n",
    "print(gf)"
   ]
  },
  {
   "cell_type": "code",
   "execution_count": 25,
   "id": "1c069888",
   "metadata": {},
   "outputs": [
    {
     "name": "stdout",
     "output_type": "stream",
     "text": [
      "   num\n",
      "a    1\n",
      "b    2\n",
      "c    3\n",
      "d    4\n",
      "e    5\n"
     ]
    }
   ],
   "source": [
    "import pandas as pd\n",
    "data = [1,2,3,4,5]\n",
    "df = pd.DataFrame(data, columns=['num'], index=['a','b','c','d','e'])\n",
    "print(df)"
   ]
  },
  {
   "cell_type": "code",
   "execution_count": null,
   "id": "28cf69de",
   "metadata": {},
   "outputs": [],
   "source": [
    "# we create dataframe by using\n",
    "# list\n",
    "# dictionary\n",
    "# series\n"
   ]
  }
 ],
 "metadata": {
  "kernelspec": {
   "display_name": "Python 3",
   "language": "python",
   "name": "python3"
  },
  "language_info": {
   "codemirror_mode": {
    "name": "ipython",
    "version": 3
   },
   "file_extension": ".py",
   "mimetype": "text/x-python",
   "name": "python",
   "nbconvert_exporter": "python",
   "pygments_lexer": "ipython3",
   "version": "3.12.10"
  }
 },
 "nbformat": 4,
 "nbformat_minor": 5
}
