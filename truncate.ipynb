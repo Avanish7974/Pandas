{
 "cells": [
  {
   "cell_type": "code",
   "execution_count": 4,
   "id": "6f3efc18",
   "metadata": {},
   "outputs": [
    {
     "data": {
      "text/plain": [
       "0     1\n",
       "1     2\n",
       "2     3\n",
       "3     4\n",
       "4     5\n",
       "5     6\n",
       "6     7\n",
       "7     8\n",
       "8     9\n",
       "9    10\n",
       "dtype: int64"
      ]
     },
     "execution_count": 4,
     "metadata": {},
     "output_type": "execute_result"
    }
   ],
   "source": [
    "import pandas as pd\n",
    "sr = pd.Series([1, 2, 3, 4, 5, 6, 7, 8, 9, 10])\n",
    "sr"
   ]
  },
  {
   "cell_type": "code",
   "execution_count": null,
   "id": "0469526b",
   "metadata": {},
   "outputs": [
    {
     "name": "stdout",
     "output_type": "stream",
     "text": [
      "3     4\n",
      "4     5\n",
      "5     6\n",
      "6     7\n",
      "7     8\n",
      "8     9\n",
      "9    10\n",
      "dtype: int64\n",
      "2    3\n",
      "3    4\n",
      "4    5\n",
      "dtype: int64\n"
     ]
    }
   ],
   "source": [
    "s=sr.truncate(before=3)\n",
    "print(s)\n",
    "# here before=3 means that the first 3 elements are not included in the result\n",
    "s=sr.truncate(before=2, after=4)\n",
    "# here before=2 means that the first 2 elements are not included in the result\n",
    "# and after=4 means that the last 4 elements are not included in the result\n",
    "print(s)"
   ]
  },
  {
   "cell_type": "code",
   "execution_count": 9,
   "id": "5dd59ed7",
   "metadata": {},
   "outputs": [
    {
     "name": "stdout",
     "output_type": "stream",
     "text": [
      "         A    B    C  D\n",
      "row_1  1.0  NaN  1.0  1\n",
      "row_2  2.0  2.0  NaN  2\n",
      "row_3  3.0  3.0  NaN  3\n",
      "row_4  4.0  4.0  4.0  4\n",
      "row_5  NaN  5.0  5.0  5\n",
      "row_6  5.0  6.0  6.0  6\n",
      "         A    B    C  D\n",
      "row_2  2.0  2.0  NaN  2\n",
      "row_3  3.0  3.0  NaN  3\n",
      "row_4  4.0  4.0  4.0  4\n"
     ]
    }
   ],
   "source": [
    "import pandas as pd\n",
    "df = pd.DataFrame({'A': [1, 2, 3, 4, None, 5],\n",
    "                   'B': [None, 2, 3, 4, 5, 6],\n",
    "                   'C': [1, None, None, 4, 5, 6],\n",
    "                   'D': [1, 2, 3, 4, 5, 6]})\n",
    "index =['row_1', 'row_2', 'row_3', 'row_4', 'row_5', 'row_6']\n",
    "df.index = index\n",
    "print(df)\n",
    "# Truncate the DataFrame to only include rows from 'row_2' to 'row_4'\n",
    "result = df.truncate(before='row_2', after='row_4')\n",
    "print(result)"
   ]
  }
 ],
 "metadata": {
  "kernelspec": {
   "display_name": "Python 3",
   "language": "python",
   "name": "python3"
  },
  "language_info": {
   "codemirror_mode": {
    "name": "ipython",
    "version": 3
   },
   "file_extension": ".py",
   "mimetype": "text/x-python",
   "name": "python",
   "nbconvert_exporter": "python",
   "pygments_lexer": "ipython3",
   "version": "3.12.10"
  }
 },
 "nbformat": 4,
 "nbformat_minor": 5
}
