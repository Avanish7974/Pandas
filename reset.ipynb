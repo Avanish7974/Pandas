{
 "cells": [
  {
   "cell_type": "code",
   "execution_count": 13,
   "id": "20997735",
   "metadata": {},
   "outputs": [
    {
     "name": "stdout",
     "output_type": "stream",
     "text": [
      "   A  B  C\n",
      "a  7  5  1\n",
      "b  7  1  2\n",
      "c  9  0  6\n",
      "d  5  5  8\n",
      "e  2  7  7\n",
      "  index  A  B  C\n",
      "0     a  7  5  1\n",
      "1     b  7  1  2\n",
      "2     c  9  0  6\n",
      "3     d  5  5  8\n",
      "4     e  2  7  7\n"
     ]
    },
    {
     "data": {
      "text/html": [
       "<div>\n",
       "<style scoped>\n",
       "    .dataframe tbody tr th:only-of-type {\n",
       "        vertical-align: middle;\n",
       "    }\n",
       "\n",
       "    .dataframe tbody tr th {\n",
       "        vertical-align: top;\n",
       "    }\n",
       "\n",
       "    .dataframe thead th {\n",
       "        text-align: right;\n",
       "    }\n",
       "</style>\n",
       "<table border=\"1\" class=\"dataframe\">\n",
       "  <thead>\n",
       "    <tr style=\"text-align: right;\">\n",
       "      <th></th>\n",
       "      <th>A</th>\n",
       "      <th>B</th>\n",
       "      <th>C</th>\n",
       "    </tr>\n",
       "  </thead>\n",
       "  <tbody>\n",
       "    <tr>\n",
       "      <th>a</th>\n",
       "      <td>7</td>\n",
       "      <td>5</td>\n",
       "      <td>1</td>\n",
       "    </tr>\n",
       "    <tr>\n",
       "      <th>b</th>\n",
       "      <td>7</td>\n",
       "      <td>1</td>\n",
       "      <td>2</td>\n",
       "    </tr>\n",
       "    <tr>\n",
       "      <th>c</th>\n",
       "      <td>9</td>\n",
       "      <td>0</td>\n",
       "      <td>6</td>\n",
       "    </tr>\n",
       "    <tr>\n",
       "      <th>d</th>\n",
       "      <td>5</td>\n",
       "      <td>5</td>\n",
       "      <td>8</td>\n",
       "    </tr>\n",
       "    <tr>\n",
       "      <th>e</th>\n",
       "      <td>2</td>\n",
       "      <td>7</td>\n",
       "      <td>7</td>\n",
       "    </tr>\n",
       "  </tbody>\n",
       "</table>\n",
       "</div>"
      ],
      "text/plain": [
       "   A  B  C\n",
       "a  7  5  1\n",
       "b  7  1  2\n",
       "c  9  0  6\n",
       "d  5  5  8\n",
       "e  2  7  7"
      ]
     },
     "execution_count": 13,
     "metadata": {},
     "output_type": "execute_result"
    }
   ],
   "source": [
    "# Reset the index of the DataFrame\n",
    "# basically this reset_index() method is used to reset the index of a DataFrame.\n",
    "import numpy as np\n",
    "import pandas as pd\n",
    "# Create a DataFrame with randn values\n",
    "from numpy.random import randint\n",
    "df = pd.DataFrame(randint(0, 10, (5, 3)),['a', 'b', 'c', 'd', 'e'], ['A', 'B', 'C'])\n",
    "print(df)\n",
    "# Reset the index of the DataFrame\n",
    "print(df.reset_index())\n",
    "# basically this reset_index() method is used to reset the index of a DataFrame.\n",
    "# It is useful when you want to convert the index into a column and create a new default integer index.\n",
    "df"
   ]
  },
  {
   "cell_type": "code",
   "execution_count": 12,
   "id": "e039375c",
   "metadata": {},
   "outputs": [
    {
     "name": "stdout",
     "output_type": "stream",
     "text": [
      "         A    B    C  D\n",
      "row_1  1.0  NaN  1.0  1\n",
      "row_2  2.0  2.0  NaN  2\n",
      "row_3  3.0  3.0  NaN  3\n",
      "row_4  4.0  4.0  4.0  4\n",
      "row_5  NaN  5.0  5.0  5\n",
      "row_6  5.0  6.0  6.0  6\n",
      "   index    A    B    C  D\n",
      "0  row_1  1.0  NaN  1.0  1\n",
      "1  row_2  2.0  2.0  NaN  2\n",
      "2  row_3  3.0  3.0  NaN  3\n",
      "3  row_4  4.0  4.0  4.0  4\n",
      "4  row_5  NaN  5.0  5.0  5\n",
      "5  row_6  5.0  6.0  6.0  6\n"
     ]
    }
   ],
   "source": [
    "import pandas as pd\n",
    "# Create a DataFrame with NaN values\n",
    "df = pd.DataFrame({'A': [1, 2, 3, 4, None, 5],\n",
    "                   'B': [None, 2, 3, 4, 5, 6],\n",
    "                   'C': [1, None, None, 4, 5, 6],\n",
    "                   'D': [1, 2, 3, 4, 5, 6]})\n",
    "# Set custom index\n",
    "index = ['row_1', 'row_2', 'row_3', 'row_4', 'row_5', 'row_6']\n",
    "df.index = index\n",
    "print(df)\n",
    "# Reset the index of the DataFrame\n",
    "print(df.reset_index())\n",
    "# basically this reset_index() method is used to reset the index of a DataFrame."
   ]
  },
  {
   "cell_type": "code",
   "execution_count": 21,
   "id": "4d574771",
   "metadata": {},
   "outputs": [
    {
     "name": "stdout",
     "output_type": "stream",
     "text": [
      "   0  1\n",
      "0  2  0\n",
      "1  4  0\n",
      "2  7  0\n",
      "3  6  5\n",
      "4  6  5\n",
      "5  4  9\n",
      "     0  1\n",
      "a 1  3  3\n",
      "  2  1  5\n",
      "  3  0  5\n",
      "b 1  0  0\n",
      "  2  7  3\n",
      "  3  4  6\n",
      "     A  B\n",
      "a 1  6  5\n",
      "  2  5  2\n",
      "  3  6  4\n",
      "b 1  2  2\n",
      "  2  7  8\n",
      "  3  0  8\n"
     ]
    }
   ],
   "source": [
    "# multiple index\n",
    "import numpy as np\n",
    "import pandas as pd\n",
    "from numpy.random import randint\n",
    "outer = ['a','a','a','b','b','b']\n",
    "inner = [1,2,3,1,2,3]\n",
    "h_index = list(zip(outer,inner))\n",
    "h_index = pd.MultiIndex.from_tuples(h_index)\n",
    "df1 = pd.DataFrame(randint(0, 10, (6, 2)))\n",
    "print(df1)\n",
    "df1 = pd.DataFrame(randint(0, 10, (6, 2)),h_index)\n",
    "print(df1)\n",
    "df1 = pd.DataFrame(randint(0, 10, (6, 2)),h_index, ['A', 'B'])\n",
    "print(df1)"
   ]
  },
  {
   "cell_type": "code",
   "execution_count": null,
   "id": "60e0f874",
   "metadata": {},
   "outputs": [
    {
     "name": "stdout",
     "output_type": "stream",
     "text": [
      "     A  B\n",
      "a 1  6  5\n",
      "  2  5  2\n",
      "  3  6  4\n",
      "b 1  2  2\n",
      "  2  7  8\n",
      "  3  0  8\n"
     ]
    }
   ],
   "source": [
    "df1['A']\n"
   ]
  },
  {
   "cell_type": "code",
   "execution_count": 22,
   "id": "04d60baa",
   "metadata": {},
   "outputs": [
    {
     "data": {
      "text/html": [
       "<div>\n",
       "<style scoped>\n",
       "    .dataframe tbody tr th:only-of-type {\n",
       "        vertical-align: middle;\n",
       "    }\n",
       "\n",
       "    .dataframe tbody tr th {\n",
       "        vertical-align: top;\n",
       "    }\n",
       "\n",
       "    .dataframe thead th {\n",
       "        text-align: right;\n",
       "    }\n",
       "</style>\n",
       "<table border=\"1\" class=\"dataframe\">\n",
       "  <thead>\n",
       "    <tr style=\"text-align: right;\">\n",
       "      <th></th>\n",
       "      <th>A</th>\n",
       "      <th>B</th>\n",
       "    </tr>\n",
       "  </thead>\n",
       "  <tbody>\n",
       "    <tr>\n",
       "      <th>1</th>\n",
       "      <td>6</td>\n",
       "      <td>5</td>\n",
       "    </tr>\n",
       "    <tr>\n",
       "      <th>2</th>\n",
       "      <td>5</td>\n",
       "      <td>2</td>\n",
       "    </tr>\n",
       "    <tr>\n",
       "      <th>3</th>\n",
       "      <td>6</td>\n",
       "      <td>4</td>\n",
       "    </tr>\n",
       "  </tbody>\n",
       "</table>\n",
       "</div>"
      ],
      "text/plain": [
       "   A  B\n",
       "1  6  5\n",
       "2  5  2\n",
       "3  6  4"
      ]
     },
     "execution_count": 22,
     "metadata": {},
     "output_type": "execute_result"
    }
   ],
   "source": [
    "df1.loc['a']"
   ]
  },
  {
   "cell_type": "code",
   "execution_count": 24,
   "id": "6286377f",
   "metadata": {},
   "outputs": [
    {
     "data": {
      "text/plain": [
       "A    6\n",
       "B    5\n",
       "Name: 1, dtype: int32"
      ]
     },
     "execution_count": 24,
     "metadata": {},
     "output_type": "execute_result"
    }
   ],
   "source": [
    "df1.loc['a'].loc[1]"
   ]
  },
  {
   "cell_type": "code",
   "execution_count": null,
   "id": "3b788f2b",
   "metadata": {},
   "outputs": [
    {
     "data": {
      "text/plain": [
       "np.int32(6)"
      ]
     },
     "execution_count": 26,
     "metadata": {},
     "output_type": "execute_result"
    }
   ],
   "source": [
    "# df1.loc['a'].loc[1]\n",
    "df1.loc['a'].loc[1].loc['A']"
   ]
  },
  {
   "cell_type": "code",
   "execution_count": null,
   "id": "8cb6b136",
   "metadata": {},
   "outputs": [
    {
     "data": {
      "text/plain": [
       "np.int32(8)"
      ]
     },
     "execution_count": 33,
     "metadata": {},
     "output_type": "execute_result"
    }
   ],
   "source": [
    "# in multiindex iloc is not working they use default index\n",
    "df1.iloc[4].iloc[1]"
   ]
  }
 ],
 "metadata": {
  "kernelspec": {
   "display_name": "Python 3",
   "language": "python",
   "name": "python3"
  },
  "language_info": {
   "codemirror_mode": {
    "name": "ipython",
    "version": 3
   },
   "file_extension": ".py",
   "mimetype": "text/x-python",
   "name": "python",
   "nbconvert_exporter": "python",
   "pygments_lexer": "ipython3",
   "version": "3.12.10"
  }
 },
 "nbformat": 4,
 "nbformat_minor": 5
}
