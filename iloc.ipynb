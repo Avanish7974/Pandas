{
 "cells": [
  {
   "cell_type": "code",
   "execution_count": 49,
   "id": "14d963a3",
   "metadata": {},
   "outputs": [
    {
     "name": "stdout",
     "output_type": "stream",
     "text": [
      "   one  Two  three\n",
      "a  1.0    1    1.0\n",
      "b  2.0    2    2.0\n",
      "c  3.0    3    NaN\n",
      "d  NaN    4    NaN\n"
     ]
    }
   ],
   "source": [
    "import pandas as pd\n",
    "d={'one': pd.Series([1,2,3],index=['a','b','c']),\n",
    "  'Two': pd.Series([1,2,3,4],index=['a','b','c','d']),\n",
    "  'three':pd.Series([1,2],index=['a','b'])}\n",
    "df1=pd.DataFrame(d)\n",
    "print(df1)"
   ]
  },
  {
   "cell_type": "code",
   "execution_count": 50,
   "id": "e1160faa",
   "metadata": {},
   "outputs": [
    {
     "data": {
      "text/plain": [
       "one      2.0\n",
       "Two      2.0\n",
       "three    2.0\n",
       "Name: b, dtype: float64"
      ]
     },
     "execution_count": 50,
     "metadata": {},
     "output_type": "execute_result"
    }
   ],
   "source": [
    "df1.iloc[1] # iloc is used for integer-location based indexing\n",
    "# iloc is used when we provide the index of the row "
   ]
  },
  {
   "cell_type": "code",
   "execution_count": null,
   "id": "90cd201c",
   "metadata": {},
   "outputs": [
    {
     "data": {
      "text/plain": [
       "one      1.0\n",
       "Two      1.0\n",
       "three    1.0\n",
       "Name: a, dtype: float64"
      ]
     },
     "execution_count": 18,
     "metadata": {},
     "output_type": "execute_result"
    }
   ],
   "source": [
    "df1.loc['a'] # loc is used for label-based indexing\n",
    "# loc works when we provide the label of the row\n",
    "# iloc and loc are used to access a group of rows and columns by labels or a boolean array the difference is that iloc is used for integer-location\n",
    "#  based indexing and loc is used for label-based indexing\n",
    "# iloc is used when we provide the index of the row\n",
    "# loc is used when we provide the label of the row\n"
   ]
  },
  {
   "cell_type": "code",
   "execution_count": 51,
   "id": "7b80fab5",
   "metadata": {},
   "outputs": [
    {
     "data": {
      "text/plain": [
       "np.int64(3)"
      ]
     },
     "execution_count": 51,
     "metadata": {},
     "output_type": "execute_result"
    }
   ],
   "source": [
    "df1.loc['c','Two'] # loc is used to access a group of rows and columns by labels or a boolean array"
   ]
  },
  {
   "cell_type": "code",
   "execution_count": 26,
   "id": "81162226",
   "metadata": {},
   "outputs": [
    {
     "name": "stdout",
     "output_type": "stream",
     "text": [
      "4.0\n"
     ]
    }
   ],
   "source": [
    "df1.iloc[3]['Two'] # iloc is used to access a group of rows and columns by labels or a boolean array\n",
    "print(df1.iloc[3]['Two']) # this will give an error because there is no index 3 in the dataframe"
   ]
  },
  {
   "cell_type": "code",
   "execution_count": 28,
   "id": "91c3682d",
   "metadata": {},
   "outputs": [
    {
     "name": "stdout",
     "output_type": "stream",
     "text": [
      "nan\n"
     ]
    },
    {
     "name": "stderr",
     "output_type": "stream",
     "text": [
      "C:\\Users\\AVANISH SINGH\\AppData\\Local\\Temp\\ipykernel_21960\\2820474057.py:1: FutureWarning: Series.__getitem__ treating keys as positions is deprecated. In a future version, integer keys will always be treated as labels (consistent with DataFrame behavior). To access a value by position, use `ser.iloc[pos]`\n",
      "  print(df1.iloc[2][2]) # this will give an error because there is no index 2 in the dataframe\n"
     ]
    }
   ],
   "source": [
    "print(df1.iloc[2][2]) # this will give an error because there is no index 2 in the dataframe"
   ]
  },
  {
   "cell_type": "code",
   "execution_count": 30,
   "id": "a4564f09",
   "metadata": {},
   "outputs": [
    {
     "name": "stdout",
     "output_type": "stream",
     "text": [
      "3.0\n"
     ]
    },
    {
     "name": "stderr",
     "output_type": "stream",
     "text": [
      "C:\\Users\\AVANISH SINGH\\AppData\\Local\\Temp\\ipykernel_21960\\2066896080.py:1: FutureWarning: Series.__getitem__ treating keys as positions is deprecated. In a future version, integer keys will always be treated as labels (consistent with DataFrame behavior). To access a value by position, use `ser.iloc[pos]`\n",
      "  print(df1.iloc[2][1]) # this will give an error because there is no index 2 in the dataframe\n"
     ]
    }
   ],
   "source": [
    "print(df1.iloc[2][1]) # this will give an error because there is no index 2 in the dataframe"
   ]
  },
  {
   "cell_type": "code",
   "execution_count": 33,
   "id": "eb1bd317",
   "metadata": {},
   "outputs": [
    {
     "name": "stdout",
     "output_type": "stream",
     "text": [
      "   one  Two  three\n",
      "0  1.0    1    1.0\n",
      "1  2.0    2    2.0\n",
      "2  3.0    3    NaN\n",
      "3  NaN    4    NaN\n"
     ]
    }
   ],
   "source": [
    "import pandas as pd\n",
    "d={'one': pd.Series([1,2,3]),\n",
    "  'Two': pd.Series([1,2,3,4]),\n",
    "  'three':pd.Series([1,2])}\n",
    "df1=pd.DataFrame(d)\n",
    "print(df1)"
   ]
  },
  {
   "cell_type": "code",
   "execution_count": null,
   "id": "4aaa8d76",
   "metadata": {},
   "outputs": [
    {
     "ename": "SyntaxError",
     "evalue": "incomplete input (4182687263.py, line 2)",
     "output_type": "error",
     "traceback": [
      "\u001b[1;36m  Cell \u001b[1;32mIn[52], line 2\u001b[1;36m\u001b[0m\n\u001b[1;33m    d={'one': pd.Series([1,2,3]),\u001b[0m\n\u001b[1;37m                                 ^\u001b[0m\n\u001b[1;31mSyntaxError\u001b[0m\u001b[1;31m:\u001b[0m incomplete input\n"
     ]
    }
   ],
   "source": []
  },
  {
   "cell_type": "code",
   "execution_count": 34,
   "id": "02c42143",
   "metadata": {},
   "outputs": [
    {
     "name": "stdout",
     "output_type": "stream",
     "text": [
      "3.0\n"
     ]
    }
   ],
   "source": [
    "print(df1.iloc[2]['Two']) # this will give an error because there is no index 2 in the dataframe"
   ]
  },
  {
   "cell_type": "code",
   "execution_count": 35,
   "id": "49946855",
   "metadata": {},
   "outputs": [
    {
     "name": "stdout",
     "output_type": "stream",
     "text": [
      "3.0\n"
     ]
    }
   ],
   "source": [
    "print(df1.loc[2]['Two']) # this will give an error because there is no index 2 in the dataframe"
   ]
  },
  {
   "cell_type": "code",
   "execution_count": null,
   "id": "5e1da56e",
   "metadata": {},
   "outputs": [],
   "source": [
    "# iloc works with the default index of the dataframe\n",
    "# but loc works with the custom index of the dataframe\n",
    "# but when we not use the custom index, then iloc and loc will work the same.\n",
    "# iloc uses integer positions. "
   ]
  },
  {
   "cell_type": "code",
   "execution_count": 40,
   "id": "4e2e79cd",
   "metadata": {},
   "outputs": [
    {
     "name": "stdout",
     "output_type": "stream",
     "text": [
      "3.0\n"
     ]
    },
    {
     "name": "stderr",
     "output_type": "stream",
     "text": [
      "C:\\Users\\AVANISH SINGH\\AppData\\Local\\Temp\\ipykernel_21960\\1221696832.py:1: FutureWarning: Series.__getitem__ treating keys as positions is deprecated. In a future version, integer keys will always be treated as labels (consistent with DataFrame behavior). To access a value by position, use `ser.iloc[pos]`\n",
      "  print(df1.iloc[2][0])\n"
     ]
    }
   ],
   "source": [
    "print(df1.iloc[2][0])"
   ]
  },
  {
   "cell_type": "code",
   "execution_count": 45,
   "id": "8390f7d9",
   "metadata": {},
   "outputs": [
    {
     "name": "stdout",
     "output_type": "stream",
     "text": [
      "   one  Two  three\n",
      "0  1.0    1    1.0\n",
      "1  2.0    2    2.0\n",
      "2  3.0    3    NaN\n"
     ]
    }
   ],
   "source": [
    "print(df1.iloc[:-1]) # this will give an error because there is no index 2 in the dataframe"
   ]
  },
  {
   "cell_type": "code",
   "execution_count": 47,
   "id": "b5e28107",
   "metadata": {},
   "outputs": [
    {
     "name": "stdout",
     "output_type": "stream",
     "text": [
      "   one  Two  three\n",
      "3  NaN    4    NaN\n"
     ]
    }
   ],
   "source": [
    "print(df1.iloc[-1:]) # this will give an error because there is no index 2 in the dataframe"
   ]
  }
 ],
 "metadata": {
  "kernelspec": {
   "display_name": "Python 3",
   "language": "python",
   "name": "python3"
  },
  "language_info": {
   "codemirror_mode": {
    "name": "ipython",
    "version": 3
   },
   "file_extension": ".py",
   "mimetype": "text/x-python",
   "name": "python",
   "nbconvert_exporter": "python",
   "pygments_lexer": "ipython3",
   "version": "3.12.10"
  }
 },
 "nbformat": 4,
 "nbformat_minor": 5
}
