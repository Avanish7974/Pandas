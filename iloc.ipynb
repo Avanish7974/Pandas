{
 "cells": [
  {
   "cell_type": "code",
   "execution_count": 3,
   "id": "14d963a3",
   "metadata": {},
   "outputs": [
    {
     "name": "stdout",
     "output_type": "stream",
     "text": [
      "   one  Two  three\n",
      "a  1.0    1    1.0\n",
      "b  2.0    2    2.0\n",
      "c  3.0    3    NaN\n",
      "d  NaN    4    NaN\n"
     ]
    }
   ],
   "source": [
    "import pandas as pd\n",
    "d={'one': pd.Series([1,2,3],index=['a','b','c']),\n",
    "  'Two': pd.Series([1,2,3,4],index=['a','b','c','d']),\n",
    "  'three':pd.Series([1,2],index=['a','b'])}\n",
    "df1=pd.DataFrame(d)\n",
    "print(df1)"
   ]
  },
  {
   "cell_type": "code",
   "execution_count": null,
   "id": "e1160faa",
   "metadata": {},
   "outputs": [
    {
     "data": {
      "text/plain": [
       "one      3.0\n",
       "Two      3.0\n",
       "three    NaN\n",
       "Name: c, dtype: float64"
      ]
     },
     "execution_count": 10,
     "metadata": {},
     "output_type": "execute_result"
    }
   ],
   "source": [
    "df1.iloc['a'] # iloc is used for integer-location based indexing"
   ]
  },
  {
   "cell_type": "code",
   "execution_count": 12,
   "id": "90cd201c",
   "metadata": {},
   "outputs": [
    {
     "data": {
      "text/plain": [
       "one      1.0\n",
       "Two      1.0\n",
       "three    1.0\n",
       "Name: a, dtype: float64"
      ]
     },
     "execution_count": 12,
     "metadata": {},
     "output_type": "execute_result"
    }
   ],
   "source": [
    "df1.loc['a'] # loc is used for label-based indexing"
   ]
  }
 ],
 "metadata": {
  "kernelspec": {
   "display_name": "Python 3",
   "language": "python",
   "name": "python3"
  },
  "language_info": {
   "codemirror_mode": {
    "name": "ipython",
    "version": 3
   },
   "file_extension": ".py",
   "mimetype": "text/x-python",
   "name": "python",
   "nbconvert_exporter": "python",
   "pygments_lexer": "ipython3",
   "version": "3.12.10"
  }
 },
 "nbformat": 4,
 "nbformat_minor": 5
}
