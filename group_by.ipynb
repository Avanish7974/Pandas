{
 "cells": [
  {
   "cell_type": "code",
   "execution_count": 5,
   "id": "3ebe4aad",
   "metadata": {},
   "outputs": [
    {
     "data": {
      "text/html": [
       "<div>\n",
       "<style scoped>\n",
       "    .dataframe tbody tr th:only-of-type {\n",
       "        vertical-align: middle;\n",
       "    }\n",
       "\n",
       "    .dataframe tbody tr th {\n",
       "        vertical-align: top;\n",
       "    }\n",
       "\n",
       "    .dataframe thead th {\n",
       "        text-align: right;\n",
       "    }\n",
       "</style>\n",
       "<table border=\"1\" class=\"dataframe\">\n",
       "  <thead>\n",
       "    <tr style=\"text-align: right;\">\n",
       "      <th></th>\n",
       "      <th>Team</th>\n",
       "      <th>Rank</th>\n",
       "      <th>year</th>\n",
       "      <th>points</th>\n",
       "    </tr>\n",
       "  </thead>\n",
       "  <tbody>\n",
       "    <tr>\n",
       "      <th>0</th>\n",
       "      <td>Kolkata Knight Riders</td>\n",
       "      <td>1</td>\n",
       "      <td>2012</td>\n",
       "      <td>10</td>\n",
       "    </tr>\n",
       "    <tr>\n",
       "      <th>1</th>\n",
       "      <td>Kolkata Knight Riders</td>\n",
       "      <td>2</td>\n",
       "      <td>2013</td>\n",
       "      <td>12</td>\n",
       "    </tr>\n",
       "    <tr>\n",
       "      <th>2</th>\n",
       "      <td>Royal Challengers Bangalore</td>\n",
       "      <td>10</td>\n",
       "      <td>2014</td>\n",
       "      <td>14</td>\n",
       "    </tr>\n",
       "    <tr>\n",
       "      <th>3</th>\n",
       "      <td>Delhi Capitals</td>\n",
       "      <td>4</td>\n",
       "      <td>2015</td>\n",
       "      <td>16</td>\n",
       "    </tr>\n",
       "    <tr>\n",
       "      <th>4</th>\n",
       "      <td>Kolkata Knight Riders</td>\n",
       "      <td>5</td>\n",
       "      <td>2016</td>\n",
       "      <td>18</td>\n",
       "    </tr>\n",
       "    <tr>\n",
       "      <th>5</th>\n",
       "      <td>Delhi Capitals</td>\n",
       "      <td>6</td>\n",
       "      <td>2020</td>\n",
       "      <td>20</td>\n",
       "    </tr>\n",
       "    <tr>\n",
       "      <th>6</th>\n",
       "      <td>Kolkata Knight Riders</td>\n",
       "      <td>7</td>\n",
       "      <td>2018</td>\n",
       "      <td>22</td>\n",
       "    </tr>\n",
       "    <tr>\n",
       "      <th>7</th>\n",
       "      <td>Mumbai Indians</td>\n",
       "      <td>8</td>\n",
       "      <td>2019</td>\n",
       "      <td>14</td>\n",
       "    </tr>\n",
       "    <tr>\n",
       "      <th>8</th>\n",
       "      <td>Chennai Super Kings</td>\n",
       "      <td>9</td>\n",
       "      <td>2020</td>\n",
       "      <td>26</td>\n",
       "    </tr>\n",
       "    <tr>\n",
       "      <th>9</th>\n",
       "      <td>Chennai Super Kings</td>\n",
       "      <td>10</td>\n",
       "      <td>2021</td>\n",
       "      <td>28</td>\n",
       "    </tr>\n",
       "    <tr>\n",
       "      <th>10</th>\n",
       "      <td>Delhi Capitals</td>\n",
       "      <td>11</td>\n",
       "      <td>2022</td>\n",
       "      <td>30</td>\n",
       "    </tr>\n",
       "  </tbody>\n",
       "</table>\n",
       "</div>"
      ],
      "text/plain": [
       "                           Team  Rank  year  points\n",
       "0         Kolkata Knight Riders     1  2012      10\n",
       "1         Kolkata Knight Riders     2  2013      12\n",
       "2   Royal Challengers Bangalore    10  2014      14\n",
       "3                Delhi Capitals     4  2015      16\n",
       "4         Kolkata Knight Riders     5  2016      18\n",
       "5                Delhi Capitals     6  2020      20\n",
       "6         Kolkata Knight Riders     7  2018      22\n",
       "7                Mumbai Indians     8  2019      14\n",
       "8           Chennai Super Kings     9  2020      26\n",
       "9           Chennai Super Kings    10  2021      28\n",
       "10               Delhi Capitals    11  2022      30"
      ]
     },
     "execution_count": 5,
     "metadata": {},
     "output_type": "execute_result"
    }
   ],
   "source": [
    "import pandas as pd\n",
    "ipl_data = {'Team': ['Kolkata Knight Riders','Kolkata Knight Riders', 'Royal Challengers Bangalore', 'Delhi Capitals','Kolkata Knight Riders', \n",
    "                     'Delhi Capitals'\n",
    "                     ,'Kolkata Knight Riders','Mumbai Indians','Chennai Super Kings',\n",
    "                      'Chennai Super Kings', 'Delhi Capitals'],\n",
    "            'Rank': [1, 2, 10, 4, 5, 6, 7, 8, 9,10,11],\n",
    "            'year': [2012, 2013, 2014, 2015, 2016, 2020, 2018, 2019, 2020, 2021, 2022],\n",
    "            'points': [10, 12, 14, 16, 18, 20, 22, 14, 26, 28, 30],\n",
    "            }\n",
    "df = pd.DataFrame(ipl_data)\n",
    "df"
   ]
  },
  {
   "cell_type": "code",
   "execution_count": 6,
   "id": "3cd80d5a",
   "metadata": {},
   "outputs": [
    {
     "name": "stdout",
     "output_type": "stream",
     "text": [
      "{1: [0], 2: [1], 4: [3], 5: [4], 6: [5], 7: [6], 8: [7], 9: [8], 10: [2, 9], 11: [10]}\n"
     ]
    }
   ],
   "source": [
    "df1 = df.groupby('Rank').groups\n",
    "print(df1)"
   ]
  },
  {
   "cell_type": "code",
   "execution_count": 7,
   "id": "ea9cb464",
   "metadata": {},
   "outputs": [
    {
     "name": "stdout",
     "output_type": "stream",
     "text": [
      "                             Team  year  points\n",
      "Rank                                           \n",
      "1           Kolkata Knight Riders  2012      10\n",
      "2           Kolkata Knight Riders  2013      12\n",
      "4                  Delhi Capitals  2015      16\n",
      "5           Kolkata Knight Riders  2016      18\n",
      "6                  Delhi Capitals  2020      20\n",
      "7           Kolkata Knight Riders  2018      22\n",
      "8                  Mumbai Indians  2019      14\n",
      "9             Chennai Super Kings  2020      26\n",
      "10    Royal Challengers Bangalore  2021      28\n",
      "11                 Delhi Capitals  2022      30\n"
     ]
    }
   ],
   "source": [
    "print(df.groupby('Rank').max())"
   ]
  },
  {
   "cell_type": "code",
   "execution_count": 12,
   "id": "7c114455",
   "metadata": {},
   "outputs": [
    {
     "name": "stdout",
     "output_type": "stream",
     "text": [
      "{2012: [0], 2013: [1], 2014: [2], 2015: [3], 2016: [4], 2018: [6], 2019: [7], 2020: [5, 8], 2021: [9], 2022: [10]}\n",
      "                  Team  Rank  year  points\n",
      "5       Delhi Capitals     6  2020      20\n",
      "8  Chennai Super Kings     9  2020      26\n"
     ]
    }
   ],
   "source": [
    "g=df.groupby('year')\n",
    "print(g.groups)\n",
    "print(g.get_group(2020))"
   ]
  }
 ],
 "metadata": {
  "kernelspec": {
   "display_name": "Python 3",
   "language": "python",
   "name": "python3"
  },
  "language_info": {
   "codemirror_mode": {
    "name": "ipython",
    "version": 3
   },
   "file_extension": ".py",
   "mimetype": "text/x-python",
   "name": "python",
   "nbconvert_exporter": "python",
   "pygments_lexer": "ipython3",
   "version": "3.12.10"
  }
 },
 "nbformat": 4,
 "nbformat_minor": 5
}
