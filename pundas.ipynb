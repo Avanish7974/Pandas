{
  "cells": [
    {
      "cell_type": "code",
      "execution_count": 2,
      "metadata": {
        "colab": {
          "base_uri": "https://localhost:8080/"
        },
        "id": "Djo7gmmitZu7",
        "outputId": "faa86820-ced5-4c14-a77b-3e91798decef"
      },
      "outputs": [
        {
          "name": "stdout",
          "output_type": "stream",
          "text": [
            "0    1\n",
            "1    2\n",
            "2    3\n",
            "dtype: int64\n"
          ]
        }
      ],
      "source": [
        "import pandas as pd\n",
        "# series funvtion is use to print in series with index\n",
        "a=pd.Series([1,2,3])\n",
        "print(a)"
      ]
    },
    {
      "cell_type": "code",
      "execution_count": 2,
      "metadata": {
        "colab": {
          "base_uri": "https://localhost:8080/"
        },
        "id": "8pVpdr_RtfHa",
        "outputId": "0f0f4480-e882-4f47-907b-07d50bbe595e"
      },
      "outputs": [
        {
          "name": "stdout",
          "output_type": "stream",
          "text": [
            "0    1\n",
            "1    2\n",
            "2    3\n",
            "Name: Apple, dtype: int64\n"
          ]
        }
      ],
      "source": [
        "import pandas as pd\n",
        "a=pd.Series([1,2,3],name ='Apple')\n",
        "print(a)"
      ]
    },
    {
      "cell_type": "code",
      "execution_count": null,
      "metadata": {
        "colab": {
          "base_uri": "https://localhost:8080/"
        },
        "id": "KOIKe-VRtjvT",
        "outputId": "310670ff-9e88-40e3-a7de-898f28306f53"
      },
      "outputs": [
        {
          "name": "stdout",
          "output_type": "stream",
          "text": [
            "4    1\n",
            "b    2\n",
            "c    3\n",
            "Name: apple, dtype: int64\n"
          ]
        }
      ],
      "source": [
        "import pandas as pd\n",
        "# here from index function we fix the index or change\n",
        "a=pd.Series([1,2,3],index=['a','b','c'],name='apple')\n",
        "print(a)"
      ]
    },
    {
      "cell_type": "code",
      "execution_count": 1,
      "metadata": {
        "colab": {
          "base_uri": "https://localhost:8080/"
        },
        "id": "rQD3GQjlumfo",
        "outputId": "2981befa-1664-4e01-ce15-df8147de6cf2"
      },
      "outputs": [
        {
          "name": "stdout",
          "output_type": "stream",
          "text": [
            "3\n",
            "1\n",
            "1\n"
          ]
        },
        {
          "name": "stderr",
          "output_type": "stream",
          "text": [
            "C:\\Users\\AVANISH SINGH\\AppData\\Local\\Temp\\ipykernel_21056\\1528337314.py:3: FutureWarning: Series.__getitem__ treating keys as positions is deprecated. In a future version, integer keys will always be treated as labels (consistent with DataFrame behavior). To access a value by position, use `ser.iloc[pos]`\n",
            "  print(a[-1])\n",
            "C:\\Users\\AVANISH SINGH\\AppData\\Local\\Temp\\ipykernel_21056\\1528337314.py:5: FutureWarning: Series.__getitem__ treating keys as positions is deprecated. In a future version, integer keys will always be treated as labels (consistent with DataFrame behavior). To access a value by position, use `ser.iloc[pos]`\n",
            "  print(a[0])\n"
          ]
        }
      ],
      "source": [
        "import pandas as pd\n",
        "a=pd.Series([1,2,3],index=['a','b','c'],name='apple')\n",
        "print(a[-1])\n",
        "print(a['a'])\n",
        "print(a[0])"
      ]
    },
    {
      "cell_type": "code",
      "execution_count": null,
      "metadata": {
        "colab": {
          "base_uri": "https://localhost:8080/"
        },
        "id": "w-U8WWqgvRld",
        "outputId": "bfc3a3ac-4f77-4656-b5a7-1fb076c49fa3"
      },
      "outputs": [
        {
          "name": "stdout",
          "output_type": "stream",
          "text": [
            "a    1\n",
            "b    2\n",
            "Name: apple, dtype: int64\n",
            "e    5\n",
            "d    4\n",
            "c    3\n",
            "b    2\n",
            "a    1\n",
            "Name: apple, dtype: int64\n",
            "e    5\n",
            "c    3\n",
            "a    1\n",
            "Name: apple, dtype: int64\n",
            "a    1\n",
            "b    2\n",
            "c    3\n",
            "d    4\n",
            "Name: apple, dtype: int64\n",
            "a    1\n",
            "b    2\n",
            "c    3\n",
            "d    4\n",
            "e    5\n",
            "Name: apple, dtype: int64\n"
          ]
        }
      ],
      "source": [
        "import pandas as pd\n",
        "a=pd.Series([1,2,3,4,5],index=['a','b','c','d','e'],name='apple')\n",
        "print(a[:2])\n",
        "print(a[::-1])\n",
        "print(a[::-2])\n",
        "print(a['a':'d'])\n",
        "print(a['a':'e'])"
      ]
    },
    {
      "cell_type": "code",
      "execution_count": null,
      "metadata": {
        "colab": {
          "base_uri": "https://localhost:8080/"
        },
        "id": "yMDo8HN2xGbH",
        "outputId": "209ea8fb-1f72-48e0-ef21-02ac1ab8ac51"
      },
      "outputs": [
        {
          "name": "stdout",
          "output_type": "stream",
          "text": [
            "a    0\n",
            "b    1\n",
            "c    2\n",
            "d    3\n",
            "e    4\n",
            "f    5\n",
            "g    6\n",
            "h    7\n",
            "i    8\n",
            "j    9\n",
            "dtype: int64\n"
          ]
        }
      ],
      "source": [
        "import pandas as pd\n",
        "\n",
        "ser = pd.Series(range(10), index=[i for i in \"abcdefghij\"])\n",
        "print(ser)\n"
      ]
    }
  ],
  "metadata": {
    "colab": {
      "provenance": []
    },
    "kernelspec": {
      "display_name": "Python 3",
      "name": "python3"
    },
    "language_info": {
      "codemirror_mode": {
        "name": "ipython",
        "version": 3
      },
      "file_extension": ".py",
      "mimetype": "text/x-python",
      "name": "python",
      "nbconvert_exporter": "python",
      "pygments_lexer": "ipython3",
      "version": "3.12.10"
    }
  },
  "nbformat": 4,
  "nbformat_minor": 0
}
