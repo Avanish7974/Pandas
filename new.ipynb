{
 "cells": [
  {
   "cell_type": "code",
   "execution_count": 9,
   "id": "3861c080",
   "metadata": {},
   "outputs": [
    {
     "name": "stdout",
     "output_type": "stream",
     "text": [
      "A    A\n",
      "B    B\n",
      "C    C\n",
      "D    D\n",
      "E    E\n",
      "Name: aplha, dtype: object\n"
     ]
    }
   ],
   "source": [
    "import pandas as pd\n",
    "list = ['A','B','C','D','E']\n",
    "# series function is used to create a Series. It takes two arguments: array-like object and index. \n",
    "ser = pd.Series(list,name='aplha',index=list)\n",
    "print(ser)"
   ]
  },
  {
   "cell_type": "code",
   "execution_count": 6,
   "id": "b9c15581",
   "metadata": {},
   "outputs": [
    {
     "name": "stdout",
     "output_type": "stream",
     "text": [
      "10    50\n",
      "11    55\n",
      "12    60\n",
      "13    65\n",
      "14    70\n",
      "dtype: int64\n"
     ]
    }
   ],
   "source": [
    "import numpy as np\n",
    "ser = np.arange(10,15)\n",
    "serobj=pd.Series(data=ser*5,index=ser)\n",
    "print(serobj)"
   ]
  },
  {
   "cell_type": "code",
   "execution_count": 11,
   "id": "19136398",
   "metadata": {},
   "outputs": [
    {
     "name": "stdout",
     "output_type": "stream",
     "text": [
      "h    50\n",
      "e    55\n",
      "l    60\n",
      "l    65\n",
      "o    70\n",
      "dtype: int64\n"
     ]
    }
   ],
   "source": [
    "import numpy as np\n",
    "ser = np.arange(10,15)\n",
    "serobj=pd.Series(data=ser*5,index=[i for i in \"hello\"])\n",
    "print(serobj)"
   ]
  },
  {
   "cell_type": "code",
   "execution_count": 14,
   "id": "00188600",
   "metadata": {},
   "outputs": [
    {
     "name": "stdout",
     "output_type": "stream",
     "text": [
      "1    50\n",
      "2    55\n",
      "3    60\n",
      "4    65\n",
      "5    70\n",
      "dtype: int64\n"
     ]
    }
   ],
   "source": [
    "import numpy as np\n",
    "ser = np.arange(10,15)\n",
    "serobj=pd.Series(data=ser*5,index=[i for i in range(1,6)])\n",
    "print(serobj)"
   ]
  },
  {
   "cell_type": "code",
   "execution_count": 15,
   "id": "214fb8e3",
   "metadata": {},
   "outputs": [
    {
     "name": "stdout",
     "output_type": "stream",
     "text": [
      "0     1.00\n",
      "1     3.25\n",
      "2     5.50\n",
      "3     7.75\n",
      "4    10.00\n",
      "dtype: float64\n"
     ]
    }
   ],
   "source": [
    "import pandas as pd\n",
    "import numpy as np\n",
    "ser1 = pd.Series(np.linspace(1, 10, 5))\n",
    "print(ser1)"
   ]
  }
 ],
 "metadata": {
  "kernelspec": {
   "display_name": "Python 3",
   "language": "python",
   "name": "python3"
  },
  "language_info": {
   "codemirror_mode": {
    "name": "ipython",
    "version": 3
   },
   "file_extension": ".py",
   "mimetype": "text/x-python",
   "name": "python",
   "nbconvert_exporter": "python",
   "pygments_lexer": "ipython3",
   "version": "3.12.10"
  }
 },
 "nbformat": 4,
 "nbformat_minor": 5
}
