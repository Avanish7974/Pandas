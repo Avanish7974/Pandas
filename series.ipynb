{
 "cells": [
  {
   "cell_type": "code",
   "execution_count": 3,
   "id": "3861c080",
   "metadata": {},
   "outputs": [
    {
     "name": "stdout",
     "output_type": "stream",
     "text": [
      "A    A\n",
      "B    B\n",
      "C    C\n",
      "D    D\n",
      "E    E\n",
      "Name: aplha, dtype: object\n"
     ]
    }
   ],
   "source": [
    "import pandas as pd\n",
    "list = ['A','B','C','D','E']\n",
    "# series function is used to create a Series. It takes two arguments: array-like object and index. \n",
    "ser = pd.Series(list,name='aplha',index=list)\n",
    "print(ser)"
   ]
  },
  {
   "cell_type": "code",
   "execution_count": 7,
   "id": "b9c15581",
   "metadata": {},
   "outputs": [
    {
     "name": "stdout",
     "output_type": "stream",
     "text": [
      "10    50\n",
      "11    55\n",
      "12    60\n",
      "13    65\n",
      "14    70\n",
      "dtype: int64\n"
     ]
    }
   ],
   "source": [
    "import numpy as np\n",
    "ser = np.arange(10,15)\n",
    "serobj=pd.Series(data=ser*5,index=ser)\n",
    "print(serobj)"
   ]
  },
  {
   "cell_type": "code",
   "execution_count": 6,
   "id": "768bea8c",
   "metadata": {},
   "outputs": [
    {
     "ename": "NameError",
     "evalue": "name 'index' is not defined",
     "output_type": "error",
     "traceback": [
      "\u001b[1;31m---------------------------------------------------------------------------\u001b[0m",
      "\u001b[1;31mNameError\u001b[0m                                 Traceback (most recent call last)",
      "Cell \u001b[1;32mIn[6], line 4\u001b[0m\n\u001b[0;32m      2\u001b[0m s\u001b[38;5;241m=\u001b[39m{\u001b[38;5;124m'\u001b[39m\u001b[38;5;124ma\u001b[39m\u001b[38;5;124m'\u001b[39m:\u001b[38;5;241m1\u001b[39m,\u001b[38;5;124m'\u001b[39m\u001b[38;5;124mb\u001b[39m\u001b[38;5;124m'\u001b[39m:\u001b[38;5;241m2\u001b[39m,\u001b[38;5;124m'\u001b[39m\u001b[38;5;124mc\u001b[39m\u001b[38;5;124m'\u001b[39m:\u001b[38;5;241m3\u001b[39m,\u001b[38;5;124m'\u001b[39m\u001b[38;5;124md\u001b[39m\u001b[38;5;124m'\u001b[39m:\u001b[38;5;241m4\u001b[39m,\u001b[38;5;124m'\u001b[39m\u001b[38;5;124me\u001b[39m\u001b[38;5;124m'\u001b[39m:\u001b[38;5;241m5\u001b[39m}\n\u001b[0;32m      3\u001b[0m \u001b[38;5;66;03m# convert dictionary to series\u001b[39;00m\n\u001b[1;32m----> 4\u001b[0m s1\u001b[38;5;241m=\u001b[39mpd\u001b[38;5;241m.\u001b[39mSeries(s,\u001b[43mindex\u001b[49m)\n\u001b[0;32m      5\u001b[0m \u001b[38;5;28mprint\u001b[39m(s1)\n",
      "\u001b[1;31mNameError\u001b[0m: name 'index' is not defined"
     ]
    }
   ],
   "source": [
    "import pandas as pd\n",
    "s={'a':1,'b':2,'c':3,'d':4,'e':5}\n",
    "# convert dictionary to series\n",
    "s1=pd.Series(s,index)\n",
    "print(s1)"
   ]
  },
  {
   "cell_type": "code",
   "execution_count": 1,
   "id": "19136398",
   "metadata": {},
   "outputs": [
    {
     "ename": "NameError",
     "evalue": "name 'pd' is not defined",
     "output_type": "error",
     "traceback": [
      "\u001b[1;31m---------------------------------------------------------------------------\u001b[0m",
      "\u001b[1;31mNameError\u001b[0m                                 Traceback (most recent call last)",
      "Cell \u001b[1;32mIn[1], line 3\u001b[0m\n\u001b[0;32m      1\u001b[0m \u001b[38;5;28;01mimport\u001b[39;00m \u001b[38;5;21;01mnumpy\u001b[39;00m \u001b[38;5;28;01mas\u001b[39;00m \u001b[38;5;21;01mnp\u001b[39;00m\n\u001b[0;32m      2\u001b[0m ser \u001b[38;5;241m=\u001b[39m np\u001b[38;5;241m.\u001b[39marange(\u001b[38;5;241m10\u001b[39m,\u001b[38;5;241m15\u001b[39m)\n\u001b[1;32m----> 3\u001b[0m serobj\u001b[38;5;241m=\u001b[39m\u001b[43mpd\u001b[49m\u001b[38;5;241m.\u001b[39mSeries(data\u001b[38;5;241m=\u001b[39mser\u001b[38;5;241m*\u001b[39m\u001b[38;5;241m5\u001b[39m,index\u001b[38;5;241m=\u001b[39m[i \u001b[38;5;28;01mfor\u001b[39;00m i \u001b[38;5;129;01min\u001b[39;00m \u001b[38;5;124m\"\u001b[39m\u001b[38;5;124mhello\u001b[39m\u001b[38;5;124m\"\u001b[39m])\n\u001b[0;32m      4\u001b[0m \u001b[38;5;28mprint\u001b[39m(serobj)\n",
      "\u001b[1;31mNameError\u001b[0m: name 'pd' is not defined"
     ]
    }
   ],
   "source": [
    "import numpy as np\n",
    "ser = np.arange(10,15)\n",
    "serobj=pd.Series(data=ser*5,index=[i for i in \"hello\"])\n",
    "print(serobj)"
   ]
  },
  {
   "cell_type": "code",
   "execution_count": null,
   "id": "00188600",
   "metadata": {},
   "outputs": [
    {
     "name": "stdout",
     "output_type": "stream",
     "text": [
      "[10 11 12 13 14]\n"
     ]
    }
   ],
   "source": [
    "import numpy as np\n",
    "ser = np.arange(10,15)\n",
    "serobj=pd.Series(data=ser*5,index=[i for i in range(1,6)])\n",
    "print(serobj)\n",
    "print(ser)"
   ]
  },
  {
   "cell_type": "code",
   "execution_count": 15,
   "id": "214fb8e3",
   "metadata": {},
   "outputs": [
    {
     "name": "stdout",
     "output_type": "stream",
     "text": [
      "0     1.00\n",
      "1     3.25\n",
      "2     5.50\n",
      "3     7.75\n",
      "4    10.00\n",
      "dtype: float64\n"
     ]
    }
   ],
   "source": [
    "import pandas as pd\n",
    "import numpy as np\n",
    "ser1 = pd.Series(np.linspace(1, 10, 5))\n",
    "print(ser1)"
   ]
  },
  {
   "cell_type": "code",
   "execution_count": null,
   "id": "f3d58b79",
   "metadata": {},
   "outputs": [
    {
     "name": "stdout",
     "output_type": "stream",
     "text": [
      "0     2\n",
      "1     4\n",
      "2     6\n",
      "3     8\n",
      "0    10\n",
      "1    12\n",
      "2    14\n",
      "3    16\n",
      "dtype: int64\n"
     ]
    }
   ],
   "source": [
    "series_1 =pd.Series([2,4,6,8])\n",
    "series_2 =pd.Series([10,12,14,16])\n",
    "# here by default axis = 0\n",
    "series_1 = pd.concat([series_1,series_2])\n",
    "print(series_1)"
   ]
  },
  {
   "cell_type": "code",
   "execution_count": null,
   "id": "9b98f091",
   "metadata": {},
   "outputs": [
    {
     "name": "stdout",
     "output_type": "stream",
     "text": [
      "    0     1\n",
      "0   2  10.0\n",
      "1   4  12.0\n",
      "2   6  14.0\n",
      "3   8  16.0\n",
      "4  12   NaN\n"
     ]
    }
   ],
   "source": [
    "series_1 =pd.Series([2,4,6,8,12])\n",
    "series_2 =pd.Series([10,12,14,16,18])\n",
    "series_1 = pd.concat([series_1,series_2],axis=1)\n",
    "print(series_1)"
   ]
  },
  {
   "cell_type": "code",
   "execution_count": null,
   "id": "09674e3e",
   "metadata": {},
   "outputs": [
    {
     "name": "stdout",
     "output_type": "stream",
     "text": [
      "a    1\n",
      "b    2\n",
      "c    3\n",
      "d    4\n",
      "e    5\n",
      "dtype: int64\n"
     ]
    }
   ],
   "source": [
    "s={'a':1,'b':2,'c':3,'d':4,'e':5}\n",
    "\n",
    "# convert dictionary to series\n",
    "s1=pd.Series(s)\n",
    "print(s1)"
   ]
  },
  {
   "cell_type": "code",
   "execution_count": 24,
   "id": "2289757d",
   "metadata": {},
   "outputs": [
    {
     "name": "stdout",
     "output_type": "stream",
     "text": [
      "    0   1   2\n",
      "0   2  10  10\n",
      "1   4  12  12\n",
      "2   6  14  14\n",
      "3   8  16  16\n",
      "4  12  20  20\n"
     ]
    }
   ],
   "source": [
    "series_1 =pd.Series([2,4,6,8,12])\n",
    "series_2 =pd.Series([10,12,14,16,20])\n",
    "series_3 =pd.Series([10,12,14,16,20])\n",
    "series_1 = pd.concat([series_1,series_2,series_3],axis=1)\n",
    "print(series_1)"
   ]
  }
 ],
 "metadata": {
  "kernelspec": {
   "display_name": "Python 3",
   "language": "python",
   "name": "python3"
  },
  "language_info": {
   "codemirror_mode": {
    "name": "ipython",
    "version": 3
   },
   "file_extension": ".py",
   "mimetype": "text/x-python",
   "name": "python",
   "nbconvert_exporter": "python",
   "pygments_lexer": "ipython3",
   "version": "3.12.10"
  }
 },
 "nbformat": 4,
 "nbformat_minor": 5
}
