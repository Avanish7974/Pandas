{
 "cells": [
  {
   "cell_type": "code",
   "execution_count": 9,
   "id": "3861c080",
   "metadata": {},
   "outputs": [
    {
     "name": "stdout",
     "output_type": "stream",
     "text": [
      "A    A\n",
      "B    B\n",
      "C    C\n",
      "D    D\n",
      "E    E\n",
      "Name: aplha, dtype: object\n"
     ]
    }
   ],
   "source": [
    "import pandas as pd\n",
    "list = ['A','B','C','D','E']\n",
    "# series function is used to create a Series. It takes two arguments: array-like object and index. \n",
    "ser = pd.Series(list,name='aplha',index=list)\n",
    "print(ser)"
   ]
  },
  {
   "cell_type": "code",
   "execution_count": 7,
   "id": "b9c15581",
   "metadata": {},
   "outputs": [
    {
     "name": "stdout",
     "output_type": "stream",
     "text": [
      "10    50\n",
      "11    55\n",
      "12    60\n",
      "13    65\n",
      "14    70\n",
      "dtype: int64\n"
     ]
    }
   ],
   "source": [
    "import numpy as np\n",
    "ser = np.arange(10,15)\n",
    "serobj=pd.Series(data=ser*5,index=ser)\n",
    "print(serobj)"
   ]
  },
  {
   "cell_type": "code",
   "execution_count": null,
   "id": "768bea8c",
   "metadata": {},
   "outputs": [
    {
     "ename": "SyntaxError",
     "evalue": "invalid syntax (2444373129.py, line 4)",
     "output_type": "error",
     "traceback": [
      "\u001b[1;36m  Cell \u001b[1;32mIn[8], line 4\u001b[1;36m\u001b[0m\n\u001b[1;33m    s1=pd.Series(s,index=['a':1])\u001b[0m\n\u001b[1;37m                             ^\u001b[0m\n\u001b[1;31mSyntaxError\u001b[0m\u001b[1;31m:\u001b[0m invalid syntax\n"
     ]
    }
   ],
   "source": [
    "import pandas as pd\n",
    "s={'a':1,'b':2,'c':3,'d':4,'e':5}\n",
    "# convert dictionary to series\n",
    "s1=pd.Series(s,index)\n",
    "print(s1)"
   ]
  },
  {
   "cell_type": "code",
   "execution_count": 11,
   "id": "19136398",
   "metadata": {},
   "outputs": [
    {
     "name": "stdout",
     "output_type": "stream",
     "text": [
      "h    50\n",
      "e    55\n",
      "l    60\n",
      "l    65\n",
      "o    70\n",
      "dtype: int64\n"
     ]
    }
   ],
   "source": [
    "import numpy as np\n",
    "ser = np.arange(10,15)\n",
    "serobj=pd.Series(data=ser*5,index=[i for i in \"hello\"])\n",
    "print(serobj)"
   ]
  },
  {
   "cell_type": "code",
   "execution_count": null,
   "id": "00188600",
   "metadata": {},
   "outputs": [
    {
     "name": "stdout",
     "output_type": "stream",
     "text": [
      "[10 11 12 13 14]\n"
     ]
    }
   ],
   "source": [
    "import numpy as np\n",
    "ser = np.arange(10,15)\n",
    "serobj=pd.Series(data=ser*5,index=[i for i in range(1,6)])\n",
    "print(serobj)\n",
    "print(ser)"
   ]
  },
  {
   "cell_type": "code",
   "execution_count": 15,
   "id": "214fb8e3",
   "metadata": {},
   "outputs": [
    {
     "name": "stdout",
     "output_type": "stream",
     "text": [
      "0     1.00\n",
      "1     3.25\n",
      "2     5.50\n",
      "3     7.75\n",
      "4    10.00\n",
      "dtype: float64\n"
     ]
    }
   ],
   "source": [
    "import pandas as pd\n",
    "import numpy as np\n",
    "ser1 = pd.Series(np.linspace(1, 10, 5))\n",
    "print(ser1)"
   ]
  },
  {
   "cell_type": "code",
   "execution_count": null,
   "id": "f3d58b79",
   "metadata": {},
   "outputs": [
    {
     "name": "stdout",
     "output_type": "stream",
     "text": [
      "0     2\n",
      "1     4\n",
      "2     6\n",
      "3     8\n",
      "0    10\n",
      "1    12\n",
      "2    14\n",
      "3    16\n",
      "dtype: int64\n"
     ]
    }
   ],
   "source": [
    "series_1 =pd.Series([2,4,6,8])\n",
    "series_2 =pd.Series([10,12,14,16])\n",
    "# here by default axis = 0\n",
    "series_1 = pd.concat([series_1,series_2])\n",
    "print(series_1)"
   ]
  },
  {
   "cell_type": "code",
   "execution_count": null,
   "id": "9b98f091",
   "metadata": {},
   "outputs": [
    {
     "name": "stdout",
     "output_type": "stream",
     "text": [
      "    0     1\n",
      "0   2  10.0\n",
      "1   4  12.0\n",
      "2   6  14.0\n",
      "3   8  16.0\n",
      "4  12   NaN\n"
     ]
    }
   ],
   "source": [
    "series_1 =pd.Series([2,4,6,8,12])\n",
    "series_2 =pd.Series([10,12,14,16,18])\n",
    "series_1 = pd.concat([series_1,series_2],axis=1)\n",
    "print(series_1)"
   ]
  },
  {
   "cell_type": "code",
   "execution_count": null,
   "id": "09674e3e",
   "metadata": {},
   "outputs": [
    {
     "name": "stdout",
     "output_type": "stream",
     "text": [
      "a    1\n",
      "b    2\n",
      "c    3\n",
      "d    4\n",
      "e    5\n",
      "dtype: int64\n"
     ]
    }
   ],
   "source": [
    "s={'a':1,'b':2,'c':3,'d':4,'e':5}\n",
    "\n",
    "# convert dictionary to series\n",
    "s1=pd.Series(s)\n",
    "print(s1)"
   ]
  },
  {
   "cell_type": "code",
   "execution_count": 24,
   "id": "2289757d",
   "metadata": {},
   "outputs": [
    {
     "name": "stdout",
     "output_type": "stream",
     "text": [
      "    0   1   2\n",
      "0   2  10  10\n",
      "1   4  12  12\n",
      "2   6  14  14\n",
      "3   8  16  16\n",
      "4  12  20  20\n"
     ]
    }
   ],
   "source": [
    "series_1 =pd.Series([2,4,6,8,12])\n",
    "series_2 =pd.Series([10,12,14,16,20])\n",
    "series_3 =pd.Series([10,12,14,16,20])\n",
    "series_1 = pd.concat([series_1,series_2,series_3],axis=1)\n",
    "print(series_1)"
   ]
  }
 ],
 "metadata": {
  "kernelspec": {
   "display_name": "Python 3",
   "language": "python",
   "name": "python3"
  },
  "language_info": {
   "codemirror_mode": {
    "name": "ipython",
    "version": 3
   },
   "file_extension": ".py",
   "mimetype": "text/x-python",
   "name": "python",
   "nbconvert_exporter": "python",
   "pygments_lexer": "ipython3",
   "version": "3.12.10"
  }
 },
 "nbformat": 4,
 "nbformat_minor": 5
}
