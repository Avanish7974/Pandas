{
 "cells": [
  {
   "cell_type": "code",
   "execution_count": 1,
   "id": "68e89de4",
   "metadata": {},
   "outputs": [
    {
     "name": "stdout",
     "output_type": "stream",
     "text": [
      "         A    B    C  D\n",
      "row_1  1.0  NaN  1.0  1\n",
      "row_2  2.0  2.0  NaN  2\n",
      "row_3  3.0  3.0  NaN  3\n",
      "row_4  4.0  4.0  4.0  4\n",
      "row_5  NaN  5.0  5.0  5\n",
      "row_6  5.0  6.0  6.0  6\n",
      "After Reindexing the index\n",
      "         A    B   S    D   E\n",
      "row_1  1.0  NaN NaN  1.0 NaN\n",
      "row_2  2.0  2.0 NaN  2.0 NaN\n",
      "row_3  3.0  3.0 NaN  3.0 NaN\n",
      "row_4  4.0  4.0 NaN  4.0 NaN\n",
      "row_5  NaN  5.0 NaN  5.0 NaN\n",
      "row_6  5.0  6.0 NaN  6.0 NaN\n",
      "row_7  NaN  NaN NaN  NaN NaN\n"
     ]
    }
   ],
   "source": [
    "# reindex \n",
    "# rename of the index\n",
    "import pandas as pd\n",
    "# Create a DataFrame with NaN values\n",
    "df = pd.DataFrame({'A': [1, 2, 3, 4, None, 5],\n",
    "                   'B': [None, 2, 3, 4, 5, 6],\n",
    "                   'C': [1, None, None, 4, 5, 6],\n",
    "                   'D': [1, 2, 3, 4, 5, 6]})\n",
    "# Set custom index\n",
    "index = ['row_1', 'row_2', 'row_3', 'row_4', 'row_5', 'row_6']\n",
    "df.index = index\n",
    "print(df)\n",
    "\n",
    "print(\"After Reindexing the index\")\n",
    "DF = df.reindex(index=['row_1', 'row_2', 'row_3', 'row_4', 'row_5', 'row_6', 'row_7'],\n",
    "                columns=['A', 'B', 'S', 'D', 'E'])\n",
    "print(DF)\n"
   ]
  },
  {
   "cell_type": "code",
   "execution_count": 8,
   "id": "8ca691f2",
   "metadata": {},
   "outputs": [
    {
     "name": "stdout",
     "output_type": "stream",
     "text": [
      "         A    B    S    D    E\n",
      "row_1  1.0  0.0  0.0  1.0  0.0\n",
      "row_2  2.0  2.0  0.0  2.0  0.0\n",
      "row_3  3.0  3.0  0.0  3.0  0.0\n",
      "row_4  4.0  4.0  0.0  4.0  0.0\n",
      "row_5  0.0  5.0  0.0  5.0  0.0\n",
      "row_6  5.0  6.0  0.0  6.0  0.0\n",
      "row_7  0.0  0.0  0.0  0.0  0.0\n",
      "             A        B        S        D        E\n",
      "row_1      1.0  Avanish  Avanish      1.0  Avanish\n",
      "row_2      2.0      2.0  Avanish      2.0  Avanish\n",
      "row_3      3.0      3.0  Avanish      3.0  Avanish\n",
      "row_4      4.0      4.0  Avanish      4.0  Avanish\n",
      "row_5  Avanish      5.0  Avanish      5.0  Avanish\n",
      "row_6      5.0      6.0  Avanish      6.0  Avanish\n",
      "row_7  Avanish  Avanish  Avanish  Avanish  Avanish\n"
     ]
    }
   ],
   "source": [
    "# fillna Fill NaN values with a specific value also with numbers and strings\n",
    "print(DF.fillna(0))\n",
    "print(DF.fillna('Avanish'))"
   ]
  },
  {
   "cell_type": "code",
   "execution_count": 14,
   "id": "f63e9e2c",
   "metadata": {},
   "outputs": [
    {
     "name": "stdout",
     "output_type": "stream",
     "text": [
      "     A    B     c\n",
      "0  1.0    a  10.0\n",
      "1  2.0  NaN   NaN\n",
      "2  NaN    c   NaN\n"
     ]
    }
   ],
   "source": [
    "import pandas as pd\n",
    "import numpy as np\n",
    "df1 = pd.DataFrame({'A':[1,2,np.nan],\n",
    "                   'B':['a',np.nan,'c'],\n",
    "                   'c':[10,np.nan,np.nan]})\n",
    "print(df1)"
   ]
  },
  {
   "cell_type": "code",
   "execution_count": 16,
   "id": "a1681629",
   "metadata": {},
   "outputs": [
    {
     "name": "stdout",
     "output_type": "stream",
     "text": [
      "0    1.0\n",
      "1    2.0\n",
      "2    hlo\n",
      "Name: A, dtype: object\n"
     ]
    }
   ],
   "source": [
    "# to print fillna at specific colum\n",
    "# to print fillna at specific column\n",
    "print(df1['A'].fillna('hlo'))\n",
    "\n"
   ]
  }
 ],
 "metadata": {
  "kernelspec": {
   "display_name": "Python 3",
   "language": "python",
   "name": "python3"
  },
  "language_info": {
   "codemirror_mode": {
    "name": "ipython",
    "version": 3
   },
   "file_extension": ".py",
   "mimetype": "text/x-python",
   "name": "python",
   "nbconvert_exporter": "python",
   "pygments_lexer": "ipython3",
   "version": "3.12.10"
  }
 },
 "nbformat": 4,
 "nbformat_minor": 5
}
